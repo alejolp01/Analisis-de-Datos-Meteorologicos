{
 "cells": [
  {
   "cell_type": "markdown",
   "id": "f660dfcf-a29e-4500-89b7-e0ec27d04728",
   "metadata": {},
   "source": [
    "## Proyecto - Análisis de Datos Meteorológicos\n",
    "Este proyecto consiste en analizar un conjunto de datos meteorológicos utilizando Python, NumPy y Pandas. El objetivo es aplicar las técnicas de manipulación de arrays, tratamiento de datos faltantes, y análisis estadístico básico en un conjunto de datos del mundo real."
   ]
  },
  {
   "cell_type": "markdown",
   "id": "9a02220b-c990-485c-a38d-9c3e6e3c042d",
   "metadata": {},
   "source": [
    "### Tareas a realizar:\n",
    "1. Crear un DataFrame a partir de los datos del archivo **datos_meteorologicos.csv** \n",
    "\n",
    "2. Realizar observaciones iniciales de los datos con Pandas\n",
    "\n",
    "3. Convertir las columnas del DataFrame en arrays de NumPy.\n",
    "\n",
    "4. Identificar los datos faltantes en los arrays, y reemplazarlos por el promedio de los valores del respectivo array.\n",
    "\n",
    "5. Realizar análisis estadístico básico. Se expera extraer la siguiente información:\n",
    "    - Temperatura promedio\n",
    "    - El total de precipitaciones\n",
    "    - La máxima humedad registrada\n",
    "    - La fecha más calurosa\n",
    "    - La fecha más fría\n",
    "\n",
    "      \n",
    "6. Exportar los resultados a un nuevo archivo CSV."
   ]
  },
  {
   "cell_type": "markdown",
   "id": "ff7b8190-5edf-4c1e-87e2-c5dd70c8788d",
   "metadata": {},
   "source": [
    "### 1. Crear un DataFrame a partir de los datos del archivo datos_meteorologicos.csv "
   ]
  },
  {
   "cell_type": "code",
   "execution_count": 12,
   "id": "f042d538-383f-44e9-a32e-72f7d979530e",
   "metadata": {},
   "outputs": [],
   "source": [
    "import pandas as pd\n",
    "import numpy as np"
   ]
  },
  {
   "cell_type": "code",
   "execution_count": null,
   "id": "a2110c20-5e30-49e4-8613-1c51e163208b",
   "metadata": {},
   "outputs": [
    {
     "data": {
      "text/html": [
       "<div>\n",
       "<style scoped>\n",
       "    .dataframe tbody tr th:only-of-type {\n",
       "        vertical-align: middle;\n",
       "    }\n",
       "\n",
       "    .dataframe tbody tr th {\n",
       "        vertical-align: top;\n",
       "    }\n",
       "\n",
       "    .dataframe thead th {\n",
       "        text-align: right;\n",
       "    }\n",
       "</style>\n",
       "<table border=\"1\" class=\"dataframe\">\n",
       "  <thead>\n",
       "    <tr style=\"text-align: right;\">\n",
       "      <th></th>\n",
       "      <th>Fecha</th>\n",
       "      <th>Temperatura</th>\n",
       "      <th>Precipitación</th>\n",
       "      <th>Humedad</th>\n",
       "    </tr>\n",
       "  </thead>\n",
       "  <tbody>\n",
       "    <tr>\n",
       "      <th>0</th>\n",
       "      <td>01/01/2010</td>\n",
       "      <td>17.440675</td>\n",
       "      <td>10.957482</td>\n",
       "      <td>52.384637</td>\n",
       "    </tr>\n",
       "    <tr>\n",
       "      <th>1</th>\n",
       "      <td>02/01/2010</td>\n",
       "      <td>25.759468</td>\n",
       "      <td>5.315628</td>\n",
       "      <td>30.633530</td>\n",
       "    </tr>\n",
       "    <tr>\n",
       "      <th>2</th>\n",
       "      <td>03/01/2010</td>\n",
       "      <td>20.138169</td>\n",
       "      <td>15.317706</td>\n",
       "      <td>41.496715</td>\n",
       "    </tr>\n",
       "    <tr>\n",
       "      <th>3</th>\n",
       "      <td>04/01/2010</td>\n",
       "      <td>17.244159</td>\n",
       "      <td>13.151008</td>\n",
       "      <td>90.684704</td>\n",
       "    </tr>\n",
       "    <tr>\n",
       "      <th>4</th>\n",
       "      <td>05/01/2010</td>\n",
       "      <td>11.182740</td>\n",
       "      <td>16.413667</td>\n",
       "      <td>22.116422</td>\n",
       "    </tr>\n",
       "    <tr>\n",
       "      <th>...</th>\n",
       "      <td>...</td>\n",
       "      <td>...</td>\n",
       "      <td>...</td>\n",
       "      <td>...</td>\n",
       "    </tr>\n",
       "    <tr>\n",
       "      <th>5105</th>\n",
       "      <td>24/12/2023</td>\n",
       "      <td>-9.554692</td>\n",
       "      <td>12.700998</td>\n",
       "      <td>50.094533</td>\n",
       "    </tr>\n",
       "    <tr>\n",
       "      <th>5106</th>\n",
       "      <td>25/12/2023</td>\n",
       "      <td>2.837831</td>\n",
       "      <td>5.475686</td>\n",
       "      <td>92.456057</td>\n",
       "    </tr>\n",
       "    <tr>\n",
       "      <th>5107</th>\n",
       "      <td>26/12/2023</td>\n",
       "      <td>29.873597</td>\n",
       "      <td>4.615012</td>\n",
       "      <td>18.362847</td>\n",
       "    </tr>\n",
       "    <tr>\n",
       "      <th>5108</th>\n",
       "      <td>27/12/2023</td>\n",
       "      <td>NaN</td>\n",
       "      <td>NaN</td>\n",
       "      <td>NaN</td>\n",
       "    </tr>\n",
       "    <tr>\n",
       "      <th>5109</th>\n",
       "      <td>28/12/2023</td>\n",
       "      <td>37.308043</td>\n",
       "      <td>7.330510</td>\n",
       "      <td>50.646211</td>\n",
       "    </tr>\n",
       "  </tbody>\n",
       "</table>\n",
       "<p>5110 rows × 4 columns</p>\n",
       "</div>"
      ],
      "text/plain": [
       "           Fecha  Temperatura  Precipitación    Humedad\n",
       "0     01/01/2010    17.440675      10.957482  52.384637\n",
       "1     02/01/2010    25.759468       5.315628  30.633530\n",
       "2     03/01/2010    20.138169      15.317706  41.496715\n",
       "3     04/01/2010    17.244159      13.151008  90.684704\n",
       "4     05/01/2010    11.182740      16.413667  22.116422\n",
       "...          ...          ...            ...        ...\n",
       "5105  24/12/2023    -9.554692      12.700998  50.094533\n",
       "5106  25/12/2023     2.837831       5.475686  92.456057\n",
       "5107  26/12/2023    29.873597       4.615012  18.362847\n",
       "5108  27/12/2023          NaN            NaN        NaN\n",
       "5109  28/12/2023    37.308043       7.330510  50.646211\n",
       "\n",
       "[5110 rows x 4 columns]"
      ]
     },
     "execution_count": 11,
     "metadata": {},
     "output_type": "execute_result"
    }
   ],
   "source": [
    "ruta='C:/Users/ALEJO/Curso Datascience/Numpy/datos_meteorologicos.csv' # La ruta en la que se encuentra el archivo (en mi caso fue esta)\n",
    "df_datos_meteorologicos=pd.read_csv(ruta)\n",
    "df_datos_meteorologicos"
   ]
  },
  {
   "cell_type": "markdown",
   "id": "a5558c41-728e-48da-b808-bd63149a8d9a",
   "metadata": {},
   "source": [
    "### 2. Realizar observaciones iniciales de los datos con Pandas"
   ]
  },
  {
   "cell_type": "code",
   "execution_count": 14,
   "id": "5946bf63-6dd3-4cc5-8582-2edd1e1f1b08",
   "metadata": {},
   "outputs": [
    {
     "data": {
      "text/html": [
       "<div>\n",
       "<style scoped>\n",
       "    .dataframe tbody tr th:only-of-type {\n",
       "        vertical-align: middle;\n",
       "    }\n",
       "\n",
       "    .dataframe tbody tr th {\n",
       "        vertical-align: top;\n",
       "    }\n",
       "\n",
       "    .dataframe thead th {\n",
       "        text-align: right;\n",
       "    }\n",
       "</style>\n",
       "<table border=\"1\" class=\"dataframe\">\n",
       "  <thead>\n",
       "    <tr style=\"text-align: right;\">\n",
       "      <th></th>\n",
       "      <th>Fecha</th>\n",
       "      <th>Temperatura</th>\n",
       "      <th>Precipitación</th>\n",
       "      <th>Humedad</th>\n",
       "    </tr>\n",
       "  </thead>\n",
       "  <tbody>\n",
       "    <tr>\n",
       "      <th>0</th>\n",
       "      <td>01/01/2010</td>\n",
       "      <td>17.440675</td>\n",
       "      <td>10.957482</td>\n",
       "      <td>52.384637</td>\n",
       "    </tr>\n",
       "    <tr>\n",
       "      <th>1</th>\n",
       "      <td>02/01/2010</td>\n",
       "      <td>25.759468</td>\n",
       "      <td>5.315628</td>\n",
       "      <td>30.633530</td>\n",
       "    </tr>\n",
       "    <tr>\n",
       "      <th>2</th>\n",
       "      <td>03/01/2010</td>\n",
       "      <td>20.138169</td>\n",
       "      <td>15.317706</td>\n",
       "      <td>41.496715</td>\n",
       "    </tr>\n",
       "    <tr>\n",
       "      <th>3</th>\n",
       "      <td>04/01/2010</td>\n",
       "      <td>17.244159</td>\n",
       "      <td>13.151008</td>\n",
       "      <td>90.684704</td>\n",
       "    </tr>\n",
       "    <tr>\n",
       "      <th>4</th>\n",
       "      <td>05/01/2010</td>\n",
       "      <td>11.182740</td>\n",
       "      <td>16.413667</td>\n",
       "      <td>22.116422</td>\n",
       "    </tr>\n",
       "  </tbody>\n",
       "</table>\n",
       "</div>"
      ],
      "text/plain": [
       "        Fecha  Temperatura  Precipitación    Humedad\n",
       "0  01/01/2010    17.440675      10.957482  52.384637\n",
       "1  02/01/2010    25.759468       5.315628  30.633530\n",
       "2  03/01/2010    20.138169      15.317706  41.496715\n",
       "3  04/01/2010    17.244159      13.151008  90.684704\n",
       "4  05/01/2010    11.182740      16.413667  22.116422"
      ]
     },
     "execution_count": 14,
     "metadata": {},
     "output_type": "execute_result"
    }
   ],
   "source": [
    "df_datos_meteorologicos.head() # Primeras 5 filas"
   ]
  },
  {
   "cell_type": "code",
   "execution_count": 15,
   "id": "c3c486e7-6065-471e-84da-fc5221015d18",
   "metadata": {},
   "outputs": [
    {
     "data": {
      "text/html": [
       "<div>\n",
       "<style scoped>\n",
       "    .dataframe tbody tr th:only-of-type {\n",
       "        vertical-align: middle;\n",
       "    }\n",
       "\n",
       "    .dataframe tbody tr th {\n",
       "        vertical-align: top;\n",
       "    }\n",
       "\n",
       "    .dataframe thead th {\n",
       "        text-align: right;\n",
       "    }\n",
       "</style>\n",
       "<table border=\"1\" class=\"dataframe\">\n",
       "  <thead>\n",
       "    <tr style=\"text-align: right;\">\n",
       "      <th></th>\n",
       "      <th>Temperatura</th>\n",
       "      <th>Precipitación</th>\n",
       "      <th>Humedad</th>\n",
       "    </tr>\n",
       "  </thead>\n",
       "  <tbody>\n",
       "    <tr>\n",
       "      <th>count</th>\n",
       "      <td>4855.000000</td>\n",
       "      <td>4855.000000</td>\n",
       "      <td>4855.000000</td>\n",
       "    </tr>\n",
       "    <tr>\n",
       "      <th>mean</th>\n",
       "      <td>14.889296</td>\n",
       "      <td>9.901604</td>\n",
       "      <td>54.359061</td>\n",
       "    </tr>\n",
       "    <tr>\n",
       "      <th>std</th>\n",
       "      <td>14.440466</td>\n",
       "      <td>5.801842</td>\n",
       "      <td>26.096345</td>\n",
       "    </tr>\n",
       "    <tr>\n",
       "      <th>min</th>\n",
       "      <td>-9.996378</td>\n",
       "      <td>0.003008</td>\n",
       "      <td>10.014980</td>\n",
       "    </tr>\n",
       "    <tr>\n",
       "      <th>25%</th>\n",
       "      <td>2.651777</td>\n",
       "      <td>4.756907</td>\n",
       "      <td>31.866578</td>\n",
       "    </tr>\n",
       "    <tr>\n",
       "      <th>50%</th>\n",
       "      <td>14.693274</td>\n",
       "      <td>9.853698</td>\n",
       "      <td>54.254478</td>\n",
       "    </tr>\n",
       "    <tr>\n",
       "      <th>75%</th>\n",
       "      <td>27.381451</td>\n",
       "      <td>14.966997</td>\n",
       "      <td>77.029500</td>\n",
       "    </tr>\n",
       "    <tr>\n",
       "      <th>max</th>\n",
       "      <td>39.998201</td>\n",
       "      <td>19.999559</td>\n",
       "      <td>99.996582</td>\n",
       "    </tr>\n",
       "  </tbody>\n",
       "</table>\n",
       "</div>"
      ],
      "text/plain": [
       "       Temperatura  Precipitación      Humedad\n",
       "count  4855.000000    4855.000000  4855.000000\n",
       "mean     14.889296       9.901604    54.359061\n",
       "std      14.440466       5.801842    26.096345\n",
       "min      -9.996378       0.003008    10.014980\n",
       "25%       2.651777       4.756907    31.866578\n",
       "50%      14.693274       9.853698    54.254478\n",
       "75%      27.381451      14.966997    77.029500\n",
       "max      39.998201      19.999559    99.996582"
      ]
     },
     "execution_count": 15,
     "metadata": {},
     "output_type": "execute_result"
    }
   ],
   "source": [
    "df_datos_meteorologicos.describe() # Algunos datos estadísticos"
   ]
  },
  {
   "cell_type": "code",
   "execution_count": 16,
   "id": "0409f448-45c5-40e1-8c20-f3e4623ed54f",
   "metadata": {},
   "outputs": [
    {
     "name": "stdout",
     "output_type": "stream",
     "text": [
      "<class 'pandas.core.frame.DataFrame'>\n",
      "RangeIndex: 5110 entries, 0 to 5109\n",
      "Data columns (total 4 columns):\n",
      " #   Column         Non-Null Count  Dtype  \n",
      "---  ------         --------------  -----  \n",
      " 0   Fecha          5110 non-null   object \n",
      " 1   Temperatura    4855 non-null   float64\n",
      " 2   Precipitación  4855 non-null   float64\n",
      " 3   Humedad        4855 non-null   float64\n",
      "dtypes: float64(3), object(1)\n",
      "memory usage: 159.8+ KB\n"
     ]
    }
   ],
   "source": [
    "df_datos_meteorologicos.info() # Inforación "
   ]
  },
  {
   "cell_type": "markdown",
   "id": "94a401c1-d27f-49fd-a08f-de581789627e",
   "metadata": {},
   "source": [
    "#### 3. Convertir las columnas del DataFrame en arrays de NumPy."
   ]
  },
  {
   "cell_type": "code",
   "execution_count": 38,
   "id": "bdc97b98-fff8-4b3c-a6df-49551220cb9e",
   "metadata": {},
   "outputs": [
    {
     "name": "stdout",
     "output_type": "stream",
     "text": [
      "Temperatura: [17.4406752  25.75946832 20.1381688  ... 29.87359717         nan\n",
      " 37.30804318]\n",
      "Precipitación: [10.957482    5.31562765 15.31770609 ...  4.61501177         nan\n",
      "  7.33051023]\n",
      "Humedad: [52.38463749 30.63352983 41.49671458 ... 18.36284738         nan\n",
      " 50.64621058]\n"
     ]
    }
   ],
   "source": [
    "# Temperatura\n",
    "temperatura=df_datos_meteorologicos['Temperatura'].to_numpy()\n",
    "# Precipitación\n",
    "precipitacion=df_datos_meteorologicos['Precipitación'].to_numpy()\n",
    "# Humedad\n",
    "humedad=df_datos_meteorologicos['Humedad'].to_numpy()\n",
    "print(f'Temperatura: {temperatura}')\n",
    "print(f'Precipitación: {precipitacion}')\n",
    "print(f'Humedad: {humedad}')"
   ]
  },
  {
   "cell_type": "markdown",
   "id": "307e802b-95ae-402c-a552-83ec22b5bfe2",
   "metadata": {},
   "source": [
    "#### 4. Identificar los datos faltantes en los arrays, y reemplazarlos por el promedio de los valores del respectivo array."
   ]
  },
  {
   "cell_type": "code",
   "execution_count": 41,
   "id": "b7de5626-fe6e-4077-9a3f-e012e98cc6f5",
   "metadata": {},
   "outputs": [
    {
     "name": "stdout",
     "output_type": "stream",
     "text": [
      "Datos nulos en la columna Temperatura: 255\n",
      "Datos nulos en la columna Precipitación: 255\n",
      "Datos nulos en la columna Humedad: 255\n"
     ]
    }
   ],
   "source": [
    "# Identidicar los datos \n",
    "temperatura_nan=np.isnan(temperatura)\n",
    "precipitacion_nan=np.isnan(temperatura)\n",
    "humedad_nan=np.isnan(temperatura)\n",
    "# Cantidad de datos nulos\n",
    "cantidad_nulos_temperatura=np.sum(temperatura_nan)\n",
    "cantidad_nulos_precipitacion=np.sum(precipitacion_nan)\n",
    "cantidad_nulos_humedad=np.sum(humedad_nan)\n",
    "print(f'Datos nulos en la columna Temperatura: {cantidad_nulos_temperatura}')\n",
    "print(f'Datos nulos en la columna Precipitación: {cantidad_nulos_precipitacion}')\n",
    "print(f'Datos nulos en la columna Humedad: {cantidad_nulos_humedad}')"
   ]
  },
  {
   "cell_type": "code",
   "execution_count": 43,
   "id": "9bff1b21-ecd0-44ac-9934-3303209172d4",
   "metadata": {},
   "outputs": [
    {
     "name": "stdout",
     "output_type": "stream",
     "text": [
      "Temperatura promedio: 14.889295723531715\n",
      "Precipitación promedio: 9.9016035987084\n",
      "Humedad promedio: 54.35906079674394\n"
     ]
    }
   ],
   "source": [
    "# Calcular promedio sin los datos nulos\n",
    "promedio_temperatura=np.nanmean(temperatura)\n",
    "promedio_precipitacion=np.nanmean(precipitacion)\n",
    "promedio_humedad=np.nanmean(humedad)"
   ]
  },
  {
   "cell_type": "code",
   "execution_count": 45,
   "id": "85b35dd6-c963-46e2-8553-0ae20fb44d8a",
   "metadata": {},
   "outputs": [],
   "source": [
    "# Reemplazar los datos nulos con el promedio\n",
    "temperatura[temperatura_nan]=promedio_temperatura\n",
    "precipitacion[precipitacion_nan]=promedio_precipitacion\n",
    "humedad[humedad_nan]=promedio_humedad"
   ]
  },
  {
   "cell_type": "markdown",
   "id": "bd1664ec-bae9-4e94-a05d-7dcd85f108b5",
   "metadata": {},
   "source": [
    "#### 5. Realizar análisis estadístico básico. Se expera extraer la siguiente información:"
   ]
  },
  {
   "cell_type": "markdown",
   "id": "356bba5d-6869-4239-af32-47fb011349cc",
   "metadata": {},
   "source": [
    "**Temperatura promedio**"
   ]
  },
  {
   "cell_type": "code",
   "execution_count": 48,
   "id": "6441e0c5-b53d-4fe2-b136-a7cfb8e77483",
   "metadata": {},
   "outputs": [
    {
     "name": "stdout",
     "output_type": "stream",
     "text": [
      "Temperatura promedio: 14.889295723531713\n"
     ]
    }
   ],
   "source": [
    "temperatura_promedio=np.nanmean(temperatura)\n",
    "print(f'Temperatura promedio: {temperatura_promedio}')"
   ]
  },
  {
   "cell_type": "markdown",
   "id": "d030cba2-b4b5-49fa-b7d9-1e241751b3f9",
   "metadata": {},
   "source": [
    "**Total de precipitaciones**"
   ]
  },
  {
   "cell_type": "code",
   "execution_count": 49,
   "id": "42cada32-66b1-4ad7-993f-31bfebd0a0b7",
   "metadata": {},
   "outputs": [
    {
     "name": "stdout",
     "output_type": "stream",
     "text": [
      "Precipitación Total: 50597.19438939993\n"
     ]
    }
   ],
   "source": [
    "precipitacion_total=np.sum(precipitacion)\n",
    "print(f'Precipitación Total: {precipitacion_total}')"
   ]
  },
  {
   "cell_type": "markdown",
   "id": "36fd346c-e9d6-4ae5-9a28-6a623ddc8d65",
   "metadata": {},
   "source": [
    "**La máxima humedad registrada**"
   ]
  },
  {
   "cell_type": "code",
   "execution_count": 51,
   "id": "9b99339f-afe8-4268-a0f9-c66de8e7ec57",
   "metadata": {},
   "outputs": [
    {
     "name": "stdout",
     "output_type": "stream",
     "text": [
      "Humedad máxima: 99.99658156071747\n"
     ]
    }
   ],
   "source": [
    "humedad_maxima=np.max(humedad)\n",
    "print(f'Humedad máxima: {humedad_maxima}')"
   ]
  },
  {
   "cell_type": "markdown",
   "id": "ca4a0af8-e7f8-4a0b-86ea-de4d14bd93a2",
   "metadata": {},
   "source": [
    "**Fecha más calurosa**"
   ]
  },
  {
   "cell_type": "code",
   "execution_count": 58,
   "id": "2b42bbab-6bea-4f71-994a-e5b773ed1190",
   "metadata": {},
   "outputs": [
    {
     "name": "stdout",
     "output_type": "stream",
     "text": [
      "Fecha más calurosa: 12/07/2017\n"
     ]
    }
   ],
   "source": [
    "# Identificar temperatura más alta\n",
    "temp_max=np.max(temperatura)\n",
    "# Registro con mayor temperatura (id)\n",
    "registro_mas_caluroso=np.where(temperatura==temp_max)[0][0]\n",
    "# Fecha correspondiente\n",
    "fecha_mas_calurosa=df_datos_meteorologicos.iloc[registro_mas_caluroso]['Fecha']\n",
    "print(F'Fecha más calurosa: {fecha_mas_calurosa}')"
   ]
  },
  {
   "cell_type": "markdown",
   "id": "aaafb58e-be43-4c66-938c-09141936d64c",
   "metadata": {},
   "source": [
    "**Fecha más fría**"
   ]
  },
  {
   "cell_type": "code",
   "execution_count": 59,
   "id": "6f557373-b16c-42ce-9d3c-8dac04c0bdfd",
   "metadata": {},
   "outputs": [
    {
     "name": "stdout",
     "output_type": "stream",
     "text": [
      "Fecha más fria: 23/07/2020\n"
     ]
    }
   ],
   "source": [
    "# Identificar temperatura más baja\n",
    "temp_min=np.min(temperatura)\n",
    "# Registro con mayor temperatura (id)\n",
    "registro_mas_frio=np.where(temperatura==temp_min)[0][0]\n",
    "# Fecha correspondiente\n",
    "fecha_mas_fria=df_datos_meteorologicos.iloc[registro_mas_frio]['Fecha']\n",
    "print(F'Fecha más fria: {fecha_mas_fria}')"
   ]
  },
  {
   "cell_type": "markdown",
   "id": "919764a6-fbfe-431f-b8ca-0ce5b4cc1280",
   "metadata": {},
   "source": [
    "### 6. Exportar los resultados a un nuevo archivo CSV."
   ]
  },
  {
   "cell_type": "code",
   "execution_count": 66,
   "id": "6d4291e8-2a02-4c38-921f-21ea04f61936",
   "metadata": {},
   "outputs": [],
   "source": [
    "# Crear un DataFrame con los resultados\n",
    "resultados=pd.DataFrame({\n",
    "    'Parámetro':['Temperatura Promedio', 'Precipitación Total', 'Humedad Máxima', 'Día Más Caluroso', 'Día Más Frío'],\n",
    "    'Valor': [temperatura_promedio, precipitacion_total, humedad_maxima, fecha_mas_calurosa, fecha_mas_fria]\n",
    "})\n",
    "# Guardar los resultados en un nuevo archivo CSV\n",
    "resultados.to_csv('Resultado análisis meteorológico.csv', index=False, encoding='utf-8') #Si solo se coloca el nombre, se guarda en la misma carpeta del archivo datos_meteorologicos.csv  "
   ]
  },
  {
   "cell_type": "code",
   "execution_count": null,
   "id": "439dd239-8223-402c-9df3-29b14e8bb14e",
   "metadata": {},
   "outputs": [],
   "source": []
  }
 ],
 "metadata": {
  "kernelspec": {
   "display_name": "Python 3 (ipykernel)",
   "language": "python",
   "name": "python3"
  },
  "language_info": {
   "codemirror_mode": {
    "name": "ipython",
    "version": 3
   },
   "file_extension": ".py",
   "mimetype": "text/x-python",
   "name": "python",
   "nbconvert_exporter": "python",
   "pygments_lexer": "ipython3",
   "version": "3.12.7"
  }
 },
 "nbformat": 4,
 "nbformat_minor": 5
}
